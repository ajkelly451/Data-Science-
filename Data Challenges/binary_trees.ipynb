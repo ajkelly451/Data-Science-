{
 "cells": [
  {
   "cell_type": "code",
   "execution_count": 1,
   "metadata": {
    "collapsed": true
   },
   "outputs": [],
   "source": [
    "import binarytree as bt"
   ]
  },
  {
   "cell_type": "code",
   "execution_count": 2,
   "metadata": {
    "collapsed": false
   },
   "outputs": [
    {
     "name": "stdout",
     "output_type": "stream",
     "text": [
      "\n",
      "            ______45_________                  \n",
      "           /                 \\                 \n",
      "         40                ___17_________      \n",
      "        /  \\              /              \\     \n",
      "      48    32          50                52   \n",
      "     /        \\        /  \\              /  \\  \n",
      "   56          13    61    21       ___23    39\n",
      "  /                                /           \n",
      "47                               22            \n",
      "                                   \\           \n",
      "                                    20         \n",
      "                                               \n",
      "\n",
      "                   ___50___   \n",
      "                  /        \\  \n",
      "          ______39          61\n",
      "         /        \\        /  \n",
      "       18___       44    53   \n",
      "      /     \\                 \n",
      "    17       35               \n",
      "   /        /                 \n",
      "  9       34                  \n",
      " /                            \n",
      "4                             \n",
      "                              \n",
      "\n",
      "          _______14______         \n",
      "         /               \\        \n",
      "     __13__             __12__    \n",
      "    /      \\           /      \\   \n",
      "  11        10        3        9  \n",
      " /  \\      /  \\      / \\      / \\ \n",
      "5    8    4    6    0   2    1   7\n",
      "                                  \n"
     ]
    }
   ],
   "source": [
    "# Generate a random binary tree and return its root\n",
    "my_tree = bt.tree(height=5, balanced=False)\n",
    "\n",
    "# Generate a random BST and return its root\n",
    "my_bst = bt.bst(height=5)\n",
    "\n",
    "# Generate a random max heap and return its root\n",
    "my_heap = bt.heap(height=3, max=True)\n",
    "\n",
    "# Pretty print the trees in stdout\n",
    "bt.pprint(my_tree)\n",
    "bt.pprint(my_bst)\n",
    "bt.pprint(my_heap)"
   ]
  },
  {
   "cell_type": "code",
   "execution_count": 14,
   "metadata": {
    "collapsed": false
   },
   "outputs": [
    {
     "data": {
      "text/plain": [
       "{'height': 5,\n",
       " 'is_bst': False,\n",
       " 'is_full': False,\n",
       " 'is_height_balanced': False,\n",
       " 'is_max_heap': False,\n",
       " 'is_min_heap': False,\n",
       " 'is_weight_balanced': False,\n",
       " 'leaf_count': 6,\n",
       " 'max_leaf_depth': 5,\n",
       " 'max_value': 61,\n",
       " 'min_leaf_depth': 3,\n",
       " 'min_value': 13,\n",
       " 'node_count': 16}"
      ]
     },
     "execution_count": 14,
     "metadata": {},
     "output_type": "execute_result"
    }
   ],
   "source": [
    "bt.inspect(my_tree)"
   ]
  },
  {
   "cell_type": "code",
   "execution_count": 19,
   "metadata": {
    "collapsed": false
   },
   "outputs": [
    {
     "name": "stdout",
     "output_type": "stream",
     "text": [
      "\n",
      "    __1  \n",
      "   /   \\ \n",
      "  2     3\n",
      " / \\     \n",
      "4   5    \n",
      "         \n"
     ]
    },
    {
     "data": {
      "text/plain": [
       "{'height': 2,\n",
       " 'is_bst': False,\n",
       " 'is_full': True,\n",
       " 'is_height_balanced': True,\n",
       " 'is_max_heap': False,\n",
       " 'is_min_heap': True,\n",
       " 'is_weight_balanced': True,\n",
       " 'leaf_count': 3,\n",
       " 'max_leaf_depth': 2,\n",
       " 'max_value': 5,\n",
       " 'min_leaf_depth': 1,\n",
       " 'min_value': 1,\n",
       " 'node_count': 5}"
      ]
     },
     "execution_count": 19,
     "metadata": {},
     "output_type": "execute_result"
    }
   ],
   "source": [
    "root = bt.Node(1)\n",
    "root.left = bt.Node(2)\n",
    "root.right = bt.Node(3)\n",
    "root.left.left = bt.Node(4)\n",
    "root.left.right = bt.Node(5)\n",
    "\n",
    "bt.pprint(root)\n",
    "bt.inspect(root)"
   ]
  },
  {
   "cell_type": "code",
   "execution_count": 38,
   "metadata": {
    "collapsed": false
   },
   "outputs": [
    {
     "ename": "KeyboardInterrupt",
     "evalue": "",
     "output_type": "error",
     "traceback": [
      "\u001b[0;31m---------------------------------------------------------------------------\u001b[0m",
      "\u001b[0;31mKeyboardInterrupt\u001b[0m                         Traceback (most recent call last)",
      "\u001b[0;32m<ipython-input-38-945f7bb51256>\u001b[0m in \u001b[0;36m<module>\u001b[0;34m()\u001b[0m\n\u001b[1;32m      3\u001b[0m \u001b[0mstack\u001b[0m \u001b[0;34m=\u001b[0m \u001b[0;34m[\u001b[0m\u001b[0mroot\u001b[0m\u001b[0;34m.\u001b[0m\u001b[0mvalue\u001b[0m\u001b[0;34m]\u001b[0m\u001b[0;34m\u001b[0m\u001b[0m\n\u001b[1;32m      4\u001b[0m \u001b[0;32mwhile\u001b[0m \u001b[0mstack\u001b[0m\u001b[0;34m:\u001b[0m\u001b[0;34m\u001b[0m\u001b[0m\n\u001b[0;32m----> 5\u001b[0;31m     \u001b[0;32mif\u001b[0m \u001b[0mroot\u001b[0m\u001b[0;34m.\u001b[0m\u001b[0mleft\u001b[0m \u001b[0;32mis\u001b[0m \u001b[0;32mnot\u001b[0m \u001b[0mNone\u001b[0m\u001b[0;34m:\u001b[0m\u001b[0;34m\u001b[0m\u001b[0m\n\u001b[0m\u001b[1;32m      6\u001b[0m         \u001b[0mstack\u001b[0m\u001b[0;34m.\u001b[0m\u001b[0mappend\u001b[0m\u001b[0;34m(\u001b[0m\u001b[0mroot\u001b[0m\u001b[0;34m.\u001b[0m\u001b[0mleft\u001b[0m\u001b[0;34m.\u001b[0m\u001b[0mvalue\u001b[0m\u001b[0;34m)\u001b[0m\u001b[0;34m\u001b[0m\u001b[0m\n\u001b[1;32m      7\u001b[0m     \u001b[0;32melse\u001b[0m\u001b[0;34m:\u001b[0m\u001b[0;34m\u001b[0m\u001b[0m\n",
      "\u001b[0;31mKeyboardInterrupt\u001b[0m: "
     ]
    }
   ],
   "source": [
    "# binary tree traversal - inorder\n",
    "nodes = []\n",
    "stack = [root.value]\n",
    "node = root\n",
    "while stack:\n",
    "    if root.left is not None:\n",
    "        stack.append(node.left.value)\n",
    "        \n",
    "    else:\n",
    "        nodes.append(root.value)\n",
    "        if root.right is not None:\n",
    "            stack.append(root.right.value)\n",
    "        else:\n",
    "            nodes.append(root.value)\n",
    "\n",
    "print nodes"
   ]
  },
  {
   "cell_type": "code",
   "execution_count": 39,
   "metadata": {
    "collapsed": false
   },
   "outputs": [
    {
     "ename": "AttributeError",
     "evalue": "'Node' object has no attribute 'self'",
     "output_type": "error",
     "traceback": [
      "\u001b[0;31m---------------------------------------------------------------------------\u001b[0m",
      "\u001b[0;31mAttributeError\u001b[0m                            Traceback (most recent call last)",
      "\u001b[0;32m<ipython-input-39-63fe30dbb880>\u001b[0m in \u001b[0;36m<module>\u001b[0;34m()\u001b[0m\n\u001b[0;32m----> 1\u001b[0;31m \u001b[0mroot\u001b[0m\u001b[0;34m.\u001b[0m\u001b[0mleft\u001b[0m\u001b[0;34m.\u001b[0m\u001b[0mself\u001b[0m\u001b[0;34m\u001b[0m\u001b[0m\n\u001b[0m",
      "\u001b[0;31mAttributeError\u001b[0m: 'Node' object has no attribute 'self'"
     ]
    }
   ],
   "source": []
  },
  {
   "cell_type": "code",
   "execution_count": null,
   "metadata": {
    "collapsed": true
   },
   "outputs": [],
   "source": []
  }
 ],
 "metadata": {
  "kernelspec": {
   "display_name": "Python 2",
   "language": "python",
   "name": "python2"
  },
  "language_info": {
   "codemirror_mode": {
    "name": "ipython",
    "version": 2
   },
   "file_extension": ".py",
   "mimetype": "text/x-python",
   "name": "python",
   "nbconvert_exporter": "python",
   "pygments_lexer": "ipython2",
   "version": "2.7.13"
  }
 },
 "nbformat": 4,
 "nbformat_minor": 2
}
