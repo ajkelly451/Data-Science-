{
 "cells": [
  {
   "cell_type": "code",
   "execution_count": 1,
   "metadata": {
    "collapsed": true,
    "deletable": true,
    "editable": true
   },
   "outputs": [],
   "source": [
    "import binarytree as bt"
   ]
  },
  {
   "cell_type": "code",
   "execution_count": 2,
   "metadata": {
    "collapsed": false,
    "deletable": true,
    "editable": true
   },
   "outputs": [
    {
     "name": "stdout",
     "output_type": "stream",
     "text": [
      "\n",
      "            ______45_________                  \n",
      "           /                 \\                 \n",
      "         40                ___17_________      \n",
      "        /  \\              /              \\     \n",
      "      48    32          50                52   \n",
      "     /        \\        /  \\              /  \\  \n",
      "   56          13    61    21       ___23    39\n",
      "  /                                /           \n",
      "47                               22            \n",
      "                                   \\           \n",
      "                                    20         \n",
      "                                               \n",
      "\n",
      "                   ___50___   \n",
      "                  /        \\  \n",
      "          ______39          61\n",
      "         /        \\        /  \n",
      "       18___       44    53   \n",
      "      /     \\                 \n",
      "    17       35               \n",
      "   /        /                 \n",
      "  9       34                  \n",
      " /                            \n",
      "4                             \n",
      "                              \n",
      "\n",
      "          _______14______         \n",
      "         /               \\        \n",
      "     __13__             __12__    \n",
      "    /      \\           /      \\   \n",
      "  11        10        3        9  \n",
      " /  \\      /  \\      / \\      / \\ \n",
      "5    8    4    6    0   2    1   7\n",
      "                                  \n"
     ]
    }
   ],
   "source": [
    "# Generate a random binary tree and return its root\n",
    "my_tree = bt.tree(height=5, balanced=False)\n",
    "\n",
    "# Generate a random BST and return its root\n",
    "my_bst = bt.bst(height=5)\n",
    "\n",
    "# Generate a random max heap and return its root\n",
    "my_heap = bt.heap(height=3, max=True)\n",
    "\n",
    "# Pretty print the trees in stdout\n",
    "bt.pprint(my_tree)\n",
    "bt.pprint(my_bst)\n",
    "bt.pprint(my_heap)"
   ]
  },
  {
   "cell_type": "code",
   "execution_count": 14,
   "metadata": {
    "collapsed": false,
    "deletable": true,
    "editable": true
   },
   "outputs": [
    {
     "data": {
      "text/plain": [
       "{'height': 5,\n",
       " 'is_bst': False,\n",
       " 'is_full': False,\n",
       " 'is_height_balanced': False,\n",
       " 'is_max_heap': False,\n",
       " 'is_min_heap': False,\n",
       " 'is_weight_balanced': False,\n",
       " 'leaf_count': 6,\n",
       " 'max_leaf_depth': 5,\n",
       " 'max_value': 61,\n",
       " 'min_leaf_depth': 3,\n",
       " 'min_value': 13,\n",
       " 'node_count': 16}"
      ]
     },
     "execution_count": 14,
     "metadata": {},
     "output_type": "execute_result"
    }
   ],
   "source": [
    "bt.inspect(my_tree)"
   ]
  },
  {
   "cell_type": "code",
   "execution_count": 19,
   "metadata": {
    "collapsed": false,
    "deletable": true,
    "editable": true
   },
   "outputs": [
    {
     "name": "stdout",
     "output_type": "stream",
     "text": [
      "\n",
      "    __1  \n",
      "   /   \\ \n",
      "  2     3\n",
      " / \\     \n",
      "4   5    \n",
      "         \n"
     ]
    },
    {
     "data": {
      "text/plain": [
       "{'height': 2,\n",
       " 'is_bst': False,\n",
       " 'is_full': True,\n",
       " 'is_height_balanced': True,\n",
       " 'is_max_heap': False,\n",
       " 'is_min_heap': True,\n",
       " 'is_weight_balanced': True,\n",
       " 'leaf_count': 3,\n",
       " 'max_leaf_depth': 2,\n",
       " 'max_value': 5,\n",
       " 'min_leaf_depth': 1,\n",
       " 'min_value': 1,\n",
       " 'node_count': 5}"
      ]
     },
     "execution_count": 19,
     "metadata": {},
     "output_type": "execute_result"
    }
   ],
   "source": [
    "root = bt.Node(1)\n",
    "root.left = bt.Node(2)\n",
    "root.right = bt.Node(3)\n",
    "root.left.left = bt.Node(4)\n",
    "root.left.right = bt.Node(5)\n",
    "\n",
    "bt.pprint(root)\n",
    "bt.inspect(root)"
   ]
  },
  {
   "cell_type": "code",
   "execution_count": 48,
   "metadata": {
    "collapsed": false,
    "deletable": true,
    "editable": true
   },
   "outputs": [
    {
     "name": "stdout",
     "output_type": "stream",
     "text": [
      "\n",
      "    __1  \n",
      "   /   \\ \n",
      "  2     3\n",
      " / \\     \n",
      "4   5    \n",
      "         \n",
      "4\n",
      "2\n",
      "5\n",
      "1\n",
      "3\n",
      "None 1\n",
      "2\n",
      "4\n",
      "5\n",
      "3\n",
      "None 4\n",
      "5\n",
      "2\n",
      "3\n",
      "1\n",
      "None\n"
     ]
    }
   ],
   "source": [
    "# binary tree traversal with recursion \n",
    "# inorder\n",
    "def inorder(tree):\n",
    "    if tree is not None:\n",
    "        inorder(tree.left)\n",
    "        print tree.value\n",
    "        inorder(tree.right)\n",
    "\n",
    "# preorder\n",
    "def preorder(tree):\n",
    "    if tree is not None:\n",
    "        print tree.value\n",
    "        preorder(tree.left)\n",
    "        preorder(tree.right)\n",
    "\n",
    "# postorder \n",
    "def postorder(tree):\n",
    "    if tree is not None:\n",
    "        postorder(tree.left)\n",
    "        postorder(tree.right)\n",
    "        print tree.value\n",
    "\n",
    "print root\n",
    "print inorder(root), preorder(root), postorder(root)"
   ]
  },
  {
   "cell_type": "code",
   "execution_count": 44,
   "metadata": {
    "collapsed": false,
    "deletable": true,
    "editable": true
   },
   "outputs": [
    {
     "name": "stdout",
     "output_type": "stream",
     "text": [
      "1\n",
      "4\n",
      "7\n",
      "7\n",
      "2\n",
      "3\n",
      "19\n",
      "None\n"
     ]
    }
   ],
   "source": [
    "# All well and good. Now how do we do this with a non-recursive function?\n",
    "class TreeNode(object):\n",
    "    def __init__(self, x):\n",
    "        self.val = x\n",
    "        self.left = None\n",
    "        self.right = None\n",
    "\n",
    "def inorderTraversal(root):\n",
    "    current = root\n",
    "    s = []\n",
    "    while current or s:\n",
    "        if current:\n",
    "            s.append(current)\n",
    "            current = current.left\n",
    "        else:\n",
    "            current = s.pop()\n",
    "            print current.val\n",
    "            current = current.right\n",
    "\n",
    "root = TreeNode(7)\n",
    "root.left = TreeNode(4)\n",
    "root.right = TreeNode(2)\n",
    "root.left.left = TreeNode(1)\n",
    "root.right.left = TreeNode(7)\n",
    "root.right.right = TreeNode(19)\n",
    "root.right.right.left = TreeNode(3)\n",
    "print inorderTraversal(root)"
   ]
  },
  {
   "cell_type": "code",
   "execution_count": 48,
   "metadata": {
    "collapsed": false,
    "deletable": true,
    "editable": true
   },
   "outputs": [
    {
     "name": "stdout",
     "output_type": "stream",
     "text": [
      "7\n",
      "4\n",
      "1\n",
      "2\n",
      "7\n",
      "19\n",
      "3\n",
      "None\n"
     ]
    }
   ],
   "source": [
    "## What about a preorder?\n",
    "# Let's do it with a queue\n",
    "from collections import deque\n",
    "def preorderTraversal(root):\n",
    "    current = root\n",
    "    q = deque()\n",
    "    while current or q:\n",
    "        if current:\n",
    "            q.append(current)\n",
    "            current = current.left\n",
    "        else:\n",
    "            current = q.popleft()\n",
    "            print current.val\n",
    "            current = current.right\n",
    "\n",
    "print preorderTraversal(root)"
   ]
  },
  {
   "cell_type": "code",
   "execution_count": 52,
   "metadata": {
    "collapsed": false,
    "deletable": true,
    "editable": true
   },
   "outputs": [
    {
     "name": "stdout",
     "output_type": "stream",
     "text": [
      "3\n",
      "2\n",
      "1\n",
      "2\n",
      "1\n",
      "2\n",
      "1\n",
      "3\n"
     ]
    }
   ],
   "source": [
    "# Max depth of binary tree\n",
    "def maxDepth(root):\n",
    "    current = root\n",
    "    s = []\n",
    "    md = 0\n",
    "    while current or s:\n",
    "        if current:\n",
    "            s.append(current)\n",
    "            current = current.left\n",
    "        else:\n",
    "            print len(s)\n",
    "            md = max(md, len(s))\n",
    "            current = s.pop()\n",
    "            current = current.right\n",
    "    return md\n",
    "            \n",
    "print maxDepth(root)"
   ]
  },
  {
   "cell_type": "code",
   "execution_count": 53,
   "metadata": {
    "collapsed": false,
    "deletable": true,
    "editable": true
   },
   "outputs": [],
   "source": [
    "# How can we do breadth-first with a queue?\n",
    "# def breadthFirstTraversal(root):\n",
    "#     current = root\n",
    "#     q = deque()\n",
    "#     while current or q:\n",
    "#        q.append(current)\n",
    "#        if current.left:\n",
    "#            q.append(current.left)\n",
    "#        if current.right:\n",
    "#            q.append(current.right)\n",
    "#        current = q.popleft()\n",
    "#        print current.val\n",
    "\n",
    "#print breadthFirstTraversal(root)"
   ]
  },
  {
   "cell_type": "markdown",
   "metadata": {
    "deletable": true,
    "editable": true
   },
   "source": [
    "### In this portion I'll play around with linked lists"
   ]
  },
  {
   "cell_type": "code",
   "execution_count": 26,
   "metadata": {
    "collapsed": false,
    "deletable": true,
    "editable": true
   },
   "outputs": [
    {
     "name": "stdout",
     "output_type": "stream",
     "text": [
      "3\n",
      "2\n",
      "1\n"
     ]
    }
   ],
   "source": [
    "# First, let's create a couple of object classes for linked lists so we can do some problems with them. \n",
    "\n",
    "class node:\n",
    "    def __init__(self):\n",
    "        self.data = None # contains the data\n",
    "        self.next = None # contains the reference to the next node\n",
    "\n",
    "\n",
    "class linked_list:\n",
    "    def __init__(self):\n",
    "        self.current = None\n",
    "\n",
    "    def add(self, data):\n",
    "        new_node = node() # create a new node\n",
    "        new_node.data = data\n",
    "        new_node.next = self.current # link the new node to the 'previous' node.\n",
    "        self.current = new_node #  set the current node to the new one.\n",
    "\n",
    "    def list_print(self):\n",
    "        node = self.current # cant point to ll!\n",
    "        while node:\n",
    "            print node.data\n",
    "            node = node.next\n",
    "\n",
    "# practice with a linked list\n",
    "\n",
    "ll = linked_list()\n",
    "ll.add(1)\n",
    "ll.add(2)\n",
    "ll.add(3)\n",
    "\n",
    "ll.list_print()"
   ]
  },
  {
   "cell_type": "code",
   "execution_count": 34,
   "metadata": {
    "collapsed": false,
    "deletable": true,
    "editable": true
   },
   "outputs": [
    {
     "name": "stdout",
     "output_type": "stream",
     "text": [
      "5\n",
      "5\n",
      "5\n"
     ]
    }
   ],
   "source": [
    "# Looks good. Let's try some problems. \n",
    "# First, add two integers together that are stored as linked lists in reverse order of their digits. \n",
    "# Note that we are only going to use a node class here, but modify it slightly\n",
    "\n",
    "class node(object):\n",
    "    def __init__(self, x):\n",
    "        self.val = x # contains the data\n",
    "        self.next = None # contains the reference to the next node\n",
    "\n",
    "def linked_add(l1, l2):\n",
    "    # Initialize variables, including an initialized node to keep track of the \n",
    "    # current added linked list through iteration. \n",
    "    root = current = node(0) # Set both root (return value) and current node\n",
    "    carry = 0 # Initialize carry, which can take a 0 or 1\n",
    "    while l1 or l2 or carry:\n",
    "        x = y = 0\n",
    "        if l1:\n",
    "            x = l1.val\n",
    "            l1 = l1.next\n",
    "        if l2:\n",
    "            y = l2.val\n",
    "            l2 = l2.next\n",
    "        # Now compute sum and add to current, and recompute carry for next pass\n",
    "        carry, val = divmod(x+y+carry, 10)\n",
    "        current.next = node(val)\n",
    "        current = current.next\n",
    "    return root.next\n",
    "        \n",
    "# Now let's see if it works as expected. Add 458 to 97\n",
    "l1 = node(8)\n",
    "l1.next = node(5)\n",
    "l1.next.next = node(4)\n",
    "l2 = node(7)\n",
    "l2.next = node(9)\n",
    "\n",
    "added = linked_add(l1, l2)\n",
    "while added:\n",
    "    print added.val\n",
    "    added = added.next"
   ]
  },
  {
   "cell_type": "code",
   "execution_count": 36,
   "metadata": {
    "collapsed": false,
    "deletable": true,
    "editable": true
   },
   "outputs": [
    {
     "name": "stdout",
     "output_type": "stream",
     "text": [
      "2\n",
      "6\n",
      "2\n",
      "1\n"
     ]
    }
   ],
   "source": [
    "# It worked! One more with a final carry to ensure everything is awesome. \n",
    "# 728 + 534\n",
    "l1 = node(8)\n",
    "l1.next = node(2)\n",
    "l1.next.next = node(7)\n",
    "l2 = node(4)\n",
    "l2.next = node(3)\n",
    "l2.next.next = node(5)\n",
    "\n",
    "added = linked_add(l1, l2)\n",
    "while added:\n",
    "    print added.val\n",
    "    added = added.next"
   ]
  },
  {
   "cell_type": "markdown",
   "metadata": {
    "deletable": true,
    "editable": true
   },
   "source": [
    "### Boom. Reinventing the wheel is fun. =P "
   ]
  },
  {
   "cell_type": "code",
   "execution_count": null,
   "metadata": {
    "collapsed": true,
    "deletable": true,
    "editable": true
   },
   "outputs": [],
   "source": []
  }
 ],
 "metadata": {
  "kernelspec": {
   "display_name": "Python 2",
   "language": "python",
   "name": "python2"
  },
  "language_info": {
   "codemirror_mode": {
    "name": "ipython",
    "version": 2
   },
   "file_extension": ".py",
   "mimetype": "text/x-python",
   "name": "python",
   "nbconvert_exporter": "python",
   "pygments_lexer": "ipython2",
   "version": "2.7.13"
  }
 },
 "nbformat": 4,
 "nbformat_minor": 2
}
